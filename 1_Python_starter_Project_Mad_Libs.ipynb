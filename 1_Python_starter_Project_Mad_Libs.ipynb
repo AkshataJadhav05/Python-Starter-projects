{
  "nbformat": 4,
  "nbformat_minor": 0,
  "metadata": {
    "colab": {
      "provenance": []
    },
    "kernelspec": {
      "name": "python3",
      "display_name": "Python 3"
    },
    "language_info": {
      "name": "python"
    }
  },
  "cells": [
    {
      "cell_type": "markdown",
      "source": [
        "This project create a funny story based on user input. It covers a concept like function defining, function calling, variable defining, variable calling and python inbuild functions like input and print."
      ],
      "metadata": {
        "id": "oZ7kEnJU590C"
      }
    },
    {
      "cell_type": "markdown",
      "source": [
        "**Mad Libs**"
      ],
      "metadata": {
        "id": "nd2LfIDC3mRC"
      }
    },
    {
      "cell_type": "code",
      "source": [
        "#Create a function get_input with string parameter\n",
        "def get_input(word_type:str):\n",
        "  user_input:str = input(f\"Enter a {word_type}:\")  #defining a user_input variable to input a string type data\n",
        "  return user_input\n",
        "\n",
        "#Function calling:variable=function_name(parameter value)\n",
        "noun1=get_input(\"noun\")\n",
        "adjective1=get_input(\"adjective\")\n",
        "verb1=get_input(\"verb\")\n",
        "noun2=get_input(\"noun\")\n",
        "verb2=get_input(\"verb\")\n",
        "\n",
        "#Multiline string \"\"\" string\"\"\"\"\n",
        "#Calling the variables in multiline story\n",
        "story = f\"\"\"\n",
        "Once upon a time, there was a {adjective1} {noun1} who loved to {verb1} all day.\n",
        "One day,{noun2} walked into the room and caught the {noun1} in the act.\n",
        "\n",
        "{noun2} :\"What are you doing?\"\n",
        "{noun1} :\"I'm just {verb1}ing what's the big deal?\"\n",
        "{noun2} :\"Well, it's not every day that you see a {noun1} {verb1}ing in the middle of the day.\"\n",
        "{noun1} :\"I guess you're right,Maybe I should take a break.\"\n",
        "{noun2} :\"That's probably a good idea.Why don't we go {verb2} instead\"\n",
        "{noun1} :\"Sure, that sounds like fun!\"\n",
        "\n",
        "And so,{noun2} and the {noun1} went off to {verb2} and had a great time.\n",
        "The end.\n",
        "\"\"\"\n",
        "print(story)\n",
        "\n",
        "#Output:"
      ],
      "metadata": {
        "colab": {
          "base_uri": "https://localhost:8080/",
          "height": 0
        },
        "id": "OmSbvAuCxOzT",
        "outputId": "694e15b1-b998-49dc-aa3a-902222899da8"
      },
      "execution_count": 4,
      "outputs": [
        {
          "output_type": "stream",
          "name": "stdout",
          "text": [
            "Enter a noun:Bob\n",
            "Enter a adjective:epic\n",
            "Enter a verb:code\n",
            "Enter a noun:James\n",
            "Enter a verb:hike\n",
            "\n",
            "Once upon a time, there was a epic Bob who loved to code all day.\n",
            "One day,James walked into the room and caught the Bob in the act.\n",
            "\n",
            "James :\"What are you doing?\"\n",
            "Bob :\"I'm just codeing what's the big deal?\"\n",
            "James :\"Well, it's not every day that you see a Bob codeing in the middle of the day.\"\n",
            "Bob :\"I guess you're right,Maybe I should take a break.\"\n",
            "James :\"That's probably a good idea.Why don't we go hike instead\"\n",
            "Bob :\"Sure, that sounds like fun!\"\n",
            "\n",
            "And so,James and the Bob went off to hike and had a great time.\n",
            "The end.\n",
            "\n"
          ]
        }
      ]
    }
  ]
}